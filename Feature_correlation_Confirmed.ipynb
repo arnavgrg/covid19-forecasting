{
  "nbformat": 4,
  "nbformat_minor": 0,
  "metadata": {
    "colab": {
      "name": "Feature_correlation_Confirmed.ipynb",
      "provenance": [],
      "collapsed_sections": []
    },
    "kernelspec": {
      "name": "python3",
      "display_name": "Python 3"
    }
  },
  "cells": [
    {
      "cell_type": "code",
      "metadata": {
        "id": "O4vbTprR60Dn"
      },
      "source": [
        "import pandas as pd\n",
        "import numpy as np\n",
        "import matplotlib.pyplot as plt\n",
        "from sklearn import linear_model\n",
        "from scipy import stats\n",
        "import seaborn as sns\n",
        "from sklearn.model_selection import train_test_split\n",
        "from sklearn.linear_model import LinearRegression\n",
        "import sys"
      ],
      "execution_count": 225,
      "outputs": []
    },
    {
      "cell_type": "code",
      "metadata": {
        "colab": {
          "base_uri": "https://localhost:8080/"
        },
        "id": "Wqo2qZER67Kq",
        "outputId": "824cb636-6fac-407b-d590-fdb6fc8b5b63"
      },
      "source": [
        "from google.colab import drive\n",
        "drive.mount('/content/drive')"
      ],
      "execution_count": 226,
      "outputs": [
        {
          "output_type": "stream",
          "text": [
            "Drive already mounted at /content/drive; to attempt to forcibly remount, call drive.mount(\"/content/drive\", force_remount=True).\n"
          ],
          "name": "stdout"
        }
      ]
    },
    {
      "cell_type": "code",
      "metadata": {
        "id": "aGx5GemZ7E67"
      },
      "source": [
        "sys.path.append('/content/drive/My Drive/')"
      ],
      "execution_count": 227,
      "outputs": []
    },
    {
      "cell_type": "code",
      "metadata": {
        "colab": {
          "base_uri": "https://localhost:8080/",
          "height": 394
        },
        "id": "p0FfHjWg7F-O",
        "outputId": "d8f727d5-5c13-49c9-8019-b24b2fbf78c0"
      },
      "source": [
        "data_file1 =  sys.path[-1] + \"train.csv\"\n",
        "train = pd.read_csv(data_file1)\n",
        "train.head()"
      ],
      "execution_count": 228,
      "outputs": [
        {
          "output_type": "execute_result",
          "data": {
            "text/html": [
              "<div>\n",
              "<style scoped>\n",
              "    .dataframe tbody tr th:only-of-type {\n",
              "        vertical-align: middle;\n",
              "    }\n",
              "\n",
              "    .dataframe tbody tr th {\n",
              "        vertical-align: top;\n",
              "    }\n",
              "\n",
              "    .dataframe thead th {\n",
              "        text-align: right;\n",
              "    }\n",
              "</style>\n",
              "<table border=\"1\" class=\"dataframe\">\n",
              "  <thead>\n",
              "    <tr style=\"text-align: right;\">\n",
              "      <th></th>\n",
              "      <th>ID</th>\n",
              "      <th>Province_State</th>\n",
              "      <th>Date</th>\n",
              "      <th>Confirmed</th>\n",
              "      <th>Deaths</th>\n",
              "      <th>Recovered</th>\n",
              "      <th>Active</th>\n",
              "      <th>Incident_Rate</th>\n",
              "      <th>People_Tested</th>\n",
              "      <th>People_Hospitalized</th>\n",
              "      <th>Mortality_Rate</th>\n",
              "      <th>Testing_Rate</th>\n",
              "      <th>Hospitalization_Rate</th>\n",
              "    </tr>\n",
              "  </thead>\n",
              "  <tbody>\n",
              "    <tr>\n",
              "      <th>0</th>\n",
              "      <td>0</td>\n",
              "      <td>Alabama</td>\n",
              "      <td>04-12-2020</td>\n",
              "      <td>3563</td>\n",
              "      <td>93</td>\n",
              "      <td>NaN</td>\n",
              "      <td>3470.0</td>\n",
              "      <td>75.988020</td>\n",
              "      <td>21583.0</td>\n",
              "      <td>437.0</td>\n",
              "      <td>2.610160</td>\n",
              "      <td>460.300152</td>\n",
              "      <td>12.264945</td>\n",
              "    </tr>\n",
              "    <tr>\n",
              "      <th>1</th>\n",
              "      <td>1</td>\n",
              "      <td>Alaska</td>\n",
              "      <td>04-12-2020</td>\n",
              "      <td>272</td>\n",
              "      <td>8</td>\n",
              "      <td>66.0</td>\n",
              "      <td>264.0</td>\n",
              "      <td>45.504049</td>\n",
              "      <td>8038.0</td>\n",
              "      <td>31.0</td>\n",
              "      <td>2.941176</td>\n",
              "      <td>1344.711576</td>\n",
              "      <td>11.397059</td>\n",
              "    </tr>\n",
              "    <tr>\n",
              "      <th>2</th>\n",
              "      <td>2</td>\n",
              "      <td>Arizona</td>\n",
              "      <td>04-12-2020</td>\n",
              "      <td>3542</td>\n",
              "      <td>115</td>\n",
              "      <td>NaN</td>\n",
              "      <td>3427.0</td>\n",
              "      <td>48.662422</td>\n",
              "      <td>42109.0</td>\n",
              "      <td>NaN</td>\n",
              "      <td>3.246753</td>\n",
              "      <td>578.522286</td>\n",
              "      <td>NaN</td>\n",
              "    </tr>\n",
              "    <tr>\n",
              "      <th>3</th>\n",
              "      <td>3</td>\n",
              "      <td>Arkansas</td>\n",
              "      <td>04-12-2020</td>\n",
              "      <td>1280</td>\n",
              "      <td>27</td>\n",
              "      <td>367.0</td>\n",
              "      <td>1253.0</td>\n",
              "      <td>49.439423</td>\n",
              "      <td>19722.0</td>\n",
              "      <td>130.0</td>\n",
              "      <td>2.109375</td>\n",
              "      <td>761.753354</td>\n",
              "      <td>10.156250</td>\n",
              "    </tr>\n",
              "    <tr>\n",
              "      <th>4</th>\n",
              "      <td>4</td>\n",
              "      <td>California</td>\n",
              "      <td>04-12-2020</td>\n",
              "      <td>22795</td>\n",
              "      <td>640</td>\n",
              "      <td>NaN</td>\n",
              "      <td>22155.0</td>\n",
              "      <td>58.137726</td>\n",
              "      <td>190328.0</td>\n",
              "      <td>5234.0</td>\n",
              "      <td>2.812020</td>\n",
              "      <td>485.423869</td>\n",
              "      <td>22.961176</td>\n",
              "    </tr>\n",
              "  </tbody>\n",
              "</table>\n",
              "</div>"
            ],
            "text/plain": [
              "   ID Province_State  ... Testing_Rate  Hospitalization_Rate\n",
              "0   0        Alabama  ...   460.300152             12.264945\n",
              "1   1         Alaska  ...  1344.711576             11.397059\n",
              "2   2        Arizona  ...   578.522286                   NaN\n",
              "3   3       Arkansas  ...   761.753354             10.156250\n",
              "4   4     California  ...   485.423869             22.961176\n",
              "\n",
              "[5 rows x 13 columns]"
            ]
          },
          "metadata": {
            "tags": []
          },
          "execution_count": 228
        }
      ]
    },
    {
      "cell_type": "code",
      "metadata": {
        "colab": {
          "base_uri": "https://localhost:8080/",
          "height": 410
        },
        "id": "3yM11-BDLZ-N",
        "outputId": "b78f074e-074f-48a5-e6c8-2ceebfcac4b0"
      },
      "source": [
        "train.corr()"
      ],
      "execution_count": 229,
      "outputs": [
        {
          "output_type": "execute_result",
          "data": {
            "text/html": [
              "<div>\n",
              "<style scoped>\n",
              "    .dataframe tbody tr th:only-of-type {\n",
              "        vertical-align: middle;\n",
              "    }\n",
              "\n",
              "    .dataframe tbody tr th {\n",
              "        vertical-align: top;\n",
              "    }\n",
              "\n",
              "    .dataframe thead th {\n",
              "        text-align: right;\n",
              "    }\n",
              "</style>\n",
              "<table border=\"1\" class=\"dataframe\">\n",
              "  <thead>\n",
              "    <tr style=\"text-align: right;\">\n",
              "      <th></th>\n",
              "      <th>ID</th>\n",
              "      <th>Confirmed</th>\n",
              "      <th>Deaths</th>\n",
              "      <th>Recovered</th>\n",
              "      <th>Active</th>\n",
              "      <th>Incident_Rate</th>\n",
              "      <th>People_Tested</th>\n",
              "      <th>People_Hospitalized</th>\n",
              "      <th>Mortality_Rate</th>\n",
              "      <th>Testing_Rate</th>\n",
              "      <th>Hospitalization_Rate</th>\n",
              "    </tr>\n",
              "  </thead>\n",
              "  <tbody>\n",
              "    <tr>\n",
              "      <th>ID</th>\n",
              "      <td>1.000000</td>\n",
              "      <td>0.335696</td>\n",
              "      <td>0.171238</td>\n",
              "      <td>0.351684</td>\n",
              "      <td>0.232118</td>\n",
              "      <td>0.647353</td>\n",
              "      <td>0.398072</td>\n",
              "      <td>0.165360</td>\n",
              "      <td>-0.213070</td>\n",
              "      <td>0.830668</td>\n",
              "      <td>-0.371500</td>\n",
              "    </tr>\n",
              "    <tr>\n",
              "      <th>Confirmed</th>\n",
              "      <td>0.335696</td>\n",
              "      <td>1.000000</td>\n",
              "      <td>0.763886</td>\n",
              "      <td>0.769516</td>\n",
              "      <td>0.919093</td>\n",
              "      <td>0.626603</td>\n",
              "      <td>0.906105</td>\n",
              "      <td>0.872062</td>\n",
              "      <td>0.134176</td>\n",
              "      <td>0.410056</td>\n",
              "      <td>0.105496</td>\n",
              "    </tr>\n",
              "    <tr>\n",
              "      <th>Deaths</th>\n",
              "      <td>0.171238</td>\n",
              "      <td>0.763886</td>\n",
              "      <td>1.000000</td>\n",
              "      <td>0.414893</td>\n",
              "      <td>0.687528</td>\n",
              "      <td>0.536329</td>\n",
              "      <td>0.674389</td>\n",
              "      <td>0.964737</td>\n",
              "      <td>0.492999</td>\n",
              "      <td>0.345898</td>\n",
              "      <td>0.298620</td>\n",
              "    </tr>\n",
              "    <tr>\n",
              "      <th>Recovered</th>\n",
              "      <td>0.351684</td>\n",
              "      <td>0.769516</td>\n",
              "      <td>0.414893</td>\n",
              "      <td>1.000000</td>\n",
              "      <td>0.384873</td>\n",
              "      <td>0.471676</td>\n",
              "      <td>0.694943</td>\n",
              "      <td>0.557223</td>\n",
              "      <td>0.076538</td>\n",
              "      <td>0.316798</td>\n",
              "      <td>-0.020390</td>\n",
              "    </tr>\n",
              "    <tr>\n",
              "      <th>Active</th>\n",
              "      <td>0.232118</td>\n",
              "      <td>0.919093</td>\n",
              "      <td>0.687528</td>\n",
              "      <td>0.384873</td>\n",
              "      <td>1.000000</td>\n",
              "      <td>0.523298</td>\n",
              "      <td>0.858354</td>\n",
              "      <td>0.804527</td>\n",
              "      <td>0.109076</td>\n",
              "      <td>0.324393</td>\n",
              "      <td>0.117458</td>\n",
              "    </tr>\n",
              "    <tr>\n",
              "      <th>Incident_Rate</th>\n",
              "      <td>0.647353</td>\n",
              "      <td>0.626603</td>\n",
              "      <td>0.536329</td>\n",
              "      <td>0.471676</td>\n",
              "      <td>0.523298</td>\n",
              "      <td>1.000000</td>\n",
              "      <td>0.511856</td>\n",
              "      <td>0.553097</td>\n",
              "      <td>0.099195</td>\n",
              "      <td>0.721931</td>\n",
              "      <td>-0.141592</td>\n",
              "    </tr>\n",
              "    <tr>\n",
              "      <th>People_Tested</th>\n",
              "      <td>0.398072</td>\n",
              "      <td>0.906105</td>\n",
              "      <td>0.674389</td>\n",
              "      <td>0.694943</td>\n",
              "      <td>0.858354</td>\n",
              "      <td>0.511856</td>\n",
              "      <td>1.000000</td>\n",
              "      <td>0.821799</td>\n",
              "      <td>0.080157</td>\n",
              "      <td>0.497311</td>\n",
              "      <td>0.096117</td>\n",
              "    </tr>\n",
              "    <tr>\n",
              "      <th>People_Hospitalized</th>\n",
              "      <td>0.165360</td>\n",
              "      <td>0.872062</td>\n",
              "      <td>0.964737</td>\n",
              "      <td>0.557223</td>\n",
              "      <td>0.804527</td>\n",
              "      <td>0.553097</td>\n",
              "      <td>0.821799</td>\n",
              "      <td>1.000000</td>\n",
              "      <td>0.434983</td>\n",
              "      <td>0.379084</td>\n",
              "      <td>0.325941</td>\n",
              "    </tr>\n",
              "    <tr>\n",
              "      <th>Mortality_Rate</th>\n",
              "      <td>-0.213070</td>\n",
              "      <td>0.134176</td>\n",
              "      <td>0.492999</td>\n",
              "      <td>0.076538</td>\n",
              "      <td>0.109076</td>\n",
              "      <td>0.099195</td>\n",
              "      <td>0.080157</td>\n",
              "      <td>0.434983</td>\n",
              "      <td>1.000000</td>\n",
              "      <td>-0.060319</td>\n",
              "      <td>0.636383</td>\n",
              "    </tr>\n",
              "    <tr>\n",
              "      <th>Testing_Rate</th>\n",
              "      <td>0.830668</td>\n",
              "      <td>0.410056</td>\n",
              "      <td>0.345898</td>\n",
              "      <td>0.316798</td>\n",
              "      <td>0.324393</td>\n",
              "      <td>0.721931</td>\n",
              "      <td>0.497311</td>\n",
              "      <td>0.379084</td>\n",
              "      <td>-0.060319</td>\n",
              "      <td>1.000000</td>\n",
              "      <td>-0.222234</td>\n",
              "    </tr>\n",
              "    <tr>\n",
              "      <th>Hospitalization_Rate</th>\n",
              "      <td>-0.371500</td>\n",
              "      <td>0.105496</td>\n",
              "      <td>0.298620</td>\n",
              "      <td>-0.020390</td>\n",
              "      <td>0.117458</td>\n",
              "      <td>-0.141592</td>\n",
              "      <td>0.096117</td>\n",
              "      <td>0.325941</td>\n",
              "      <td>0.636383</td>\n",
              "      <td>-0.222234</td>\n",
              "      <td>1.000000</td>\n",
              "    </tr>\n",
              "  </tbody>\n",
              "</table>\n",
              "</div>"
            ],
            "text/plain": [
              "                            ID  Confirmed  ...  Testing_Rate  Hospitalization_Rate\n",
              "ID                    1.000000   0.335696  ...      0.830668             -0.371500\n",
              "Confirmed             0.335696   1.000000  ...      0.410056              0.105496\n",
              "Deaths                0.171238   0.763886  ...      0.345898              0.298620\n",
              "Recovered             0.351684   0.769516  ...      0.316798             -0.020390\n",
              "Active                0.232118   0.919093  ...      0.324393              0.117458\n",
              "Incident_Rate         0.647353   0.626603  ...      0.721931             -0.141592\n",
              "People_Tested         0.398072   0.906105  ...      0.497311              0.096117\n",
              "People_Hospitalized   0.165360   0.872062  ...      0.379084              0.325941\n",
              "Mortality_Rate       -0.213070   0.134176  ...     -0.060319              0.636383\n",
              "Testing_Rate          0.830668   0.410056  ...      1.000000             -0.222234\n",
              "Hospitalization_Rate -0.371500   0.105496  ...     -0.222234              1.000000\n",
              "\n",
              "[11 rows x 11 columns]"
            ]
          },
          "metadata": {
            "tags": []
          },
          "execution_count": 229
        }
      ]
    },
    {
      "cell_type": "code",
      "metadata": {
        "colab": {
          "base_uri": "https://localhost:8080/"
        },
        "id": "OPewj8-YGR64",
        "outputId": "21d8597c-6628-4444-c0a0-ddd82388dd70"
      },
      "source": [
        "df = pd.DataFrame(train)\n",
        "\n",
        "X = df.drop(\"Confirmed\",1)   #Feature Matrix\n",
        "y = df[\"Confirmed\"]          #Target Variable\n",
        "\n",
        "df = df.drop(['Deaths', 'ID'], axis=1)\n",
        "df = df.replace(np.NaN, 0).dropna(axis=1)\n",
        "corr_matrix = df.corr()\n",
        "print(corr_matrix)"
      ],
      "execution_count": 230,
      "outputs": [
        {
          "output_type": "stream",
          "text": [
            "                      Confirmed  Recovered  ...  Testing_Rate  Hospitalization_Rate\n",
            "Confirmed              1.000000   0.519947  ...      0.410056             -0.066103\n",
            "Recovered              0.519947   1.000000  ...      0.317542             -0.164700\n",
            "Active                 0.919093   0.143422  ...      0.324393             -0.010424\n",
            "Incident_Rate          0.626603   0.431298  ...      0.721931             -0.128452\n",
            "People_Tested          0.906105   0.413880  ...      0.497311             -0.112693\n",
            "People_Hospitalized    0.579971   0.187234  ...      0.246015              0.381740\n",
            "Mortality_Rate         0.134176   0.052682  ...     -0.060319              0.290391\n",
            "Testing_Rate           0.410056   0.317542  ...      1.000000             -0.231493\n",
            "Hospitalization_Rate  -0.066103  -0.164700  ...     -0.231493              1.000000\n",
            "\n",
            "[9 rows x 9 columns]\n"
          ],
          "name": "stdout"
        }
      ]
    },
    {
      "cell_type": "code",
      "metadata": {
        "id": "z9C6-Q8g7q6A"
      },
      "source": [
        "#Find features that are more highly correlated for confirmed cases and then deaths \n",
        "gb = df.groupby('Province_State')\n",
        "\n",
        "Alabama = gb.get_group(\"Alabama\")\n",
        "Alaska = gb.get_group(\"Alaska\")\n",
        "Arizona = gb.get_group(\"Arizona\")\n",
        "Arkansas = gb.get_group(\"Arkansas\")\n",
        "California = gb.get_group(\"California\")\n",
        "Colorado = gb.get_group(\"Colorado\")\n",
        "Connecticut = gb.get_group(\"Connecticut\")\n",
        "Delaware = gb.get_group(\"Delaware\")\n",
        "Florida = gb.get_group(\"Florida\")\n",
        "Georgia = gb.get_group(\"Georgia\")\n",
        "Hawaii = gb.get_group(\"Hawaii\")\n",
        "Idaho = gb.get_group(\"Idaho\")\n",
        "Illinois = gb.get_group(\"Illinois\")\n",
        "Indiana = gb.get_group(\"Indiana\")\n",
        "Iowa = gb.get_group(\"Iowa\")\n",
        "Kansas = gb.get_group(\"Kansas\")\n",
        "Kentucky = gb.get_group(\"Kentucky\")\n",
        "Louisiana = gb.get_group(\"Louisiana\")\n",
        "Maine = gb.get_group(\"Maine\")\n",
        "Maryland = gb.get_group(\"Maryland\")\n",
        "Massachusetts = gb.get_group(\"Massachusetts\")\n",
        "Michigan = gb.get_group(\"Michigan\")\n",
        "Minnesota = gb.get_group(\"Minnesota\")\n",
        "Mississippi = gb.get_group(\"Mississippi\")\n",
        "Missouri = gb.get_group(\"Missouri\")\n",
        "Montana = gb.get_group(\"Montana\")\n",
        "Nebraska = gb.get_group(\"Nebraska\")\n",
        "Nevada = gb.get_group(\"Nevada\")\n",
        "New_Hampshire = gb.get_group(\"New Hampshire\")\n",
        "New_Jersey = gb.get_group(\"New Jersey\")\n",
        "New_Mexico = gb.get_group(\"New Mexico\")\n",
        "New_York = gb.get_group(\"New York\")\n",
        "North_Carolina = gb.get_group(\"North Carolina\")\n",
        "North_Dakota = gb.get_group(\"North Dakota\")\n",
        "Ohio = gb.get_group(\"Ohio\")\n",
        "Oklahoma = gb.get_group(\"Oklahoma\")\n",
        "Oregon = gb.get_group(\"Oregon\")\n",
        "Pennsylvania = gb.get_group(\"Pennsylvania\")\n",
        "Rhode_Island = gb.get_group(\"Rhode Island\")\n",
        "South_Carolina = gb.get_group(\"South Carolina\")\n",
        "South_Dakota = gb.get_group(\"South Dakota\")\n",
        "Tennessee = gb.get_group(\"Tennessee\")\n",
        "Texas = gb.get_group(\"Texas\")\n",
        "Utah = gb.get_group(\"Utah\")\n",
        "Vermont = gb.get_group(\"Vermont\")\n",
        "Virginia = gb.get_group(\"Virginia\")\n",
        "Washington = gb.get_group(\"Washington\")\n",
        "West_Virginia = gb.get_group(\"West Virginia\")\n",
        "Wisconsin = gb.get_group(\"Wisconsin\")\n",
        "Wyoming = gb.get_group(\"Wyoming\")\n",
        "\n",
        "#Find datasets to add - population and effectiveness of quarantine"
      ],
      "execution_count": 231,
      "outputs": []
    },
    {
      "cell_type": "code",
      "metadata": {
        "id": "30oPEuMjLkmj"
      },
      "source": [
        "list_states = [Alabama, \n",
        "Alaska,\n",
        "Arizona,\n",
        "Arkansas,\n",
        "California,\n",
        "Colorado,\n",
        "Connecticut,\n",
        "Delaware,\n",
        "Florida,\n",
        "Georgia,\n",
        "Hawaii,\n",
        "Idaho,\n",
        "Illinois,\n",
        "Indiana,\n",
        "Iowa,\n",
        "Kansas,\n",
        "Kentucky,\n",
        "Louisiana,\n",
        "Maine,\n",
        "Maryland,\n",
        "Massachusetts,\n",
        "Michigan,\n",
        "Minnesota,\n",
        "Mississippi,\n",
        "Missouri,\n",
        "Montana,\n",
        "Nebraska,\n",
        "Nevada,\n",
        "New_Hampshire,\n",
        "New_Jersey,\n",
        "New_Mexico,\n",
        "New_York,\n",
        "North_Carolina,\n",
        "North_Dakota,\n",
        "Ohio,\n",
        "Oklahoma,\n",
        "Oregon,\n",
        "Pennsylvania,\n",
        "Rhode_Island,\n",
        "South_Carolina,\n",
        "South_Dakota,\n",
        "Tennessee,\n",
        "Texas,\n",
        "Utah,\n",
        "Vermont,\n",
        "Virginia,\n",
        "Washington,\n",
        "West_Virginia,\n",
        "Wisconsin,\n",
        "Wyoming]\n",
        "\n"
      ],
      "execution_count": 232,
      "outputs": []
    },
    {
      "cell_type": "code",
      "metadata": {
        "id": "oXSiPYcnVpnQ"
      },
      "source": [
        "list_state_names = [\"Alabama\", \n",
        "\"Alaska\",\n",
        "\"Arizona\",\n",
        "\"Arkansas\",\n",
        "\"California\",\n",
        "\"Colorado\",\n",
        "\"Connecticut\",\n",
        "\"Delaware\",\n",
        "\"Florida\",\n",
        "\"Georgia\",\n",
        "\"Hawaii\",\n",
        "\"Idaho\",\n",
        "\"Illinois\",\n",
        "\"Indiana\",\n",
        "\"Iowa\",\n",
        "\"Kansas\",\n",
        "\"Kentucky\",\n",
        "\"Louisiana\",\n",
        "\"Maine\",\n",
        "\"Maryland\",\n",
        "\"Massachusetts\",\n",
        "\"Michigan\",\n",
        "\"Minnesota\",\n",
        "\"Mississippi\",\n",
        "\"Missouri\",\n",
        "\"Montana\",\n",
        "\"Nebraska\",\n",
        "\"Nevada\",\n",
        "\"New_Hampshire\",\n",
        "\"New_Jersey\",\n",
        "\"New_Mexico\",\n",
        "\"New_York\",\n",
        "\"North_Carolina\",\n",
        "\"North_Dakota\",\n",
        "\"Ohio\",\n",
        "\"Oklahoma\",\n",
        "\"Oregon\",\n",
        "\"Pennsylvania\",\n",
        "\"Rhode_Island\",\n",
        "\"South_Carolina\",\n",
        "\"South_Dakota\",\n",
        "\"Tennessee\",\n",
        "\"Texas\",\n",
        "\"Utah\",\n",
        "\"Vermont\",\n",
        "\"Virginia\",\n",
        "\"Washington\",\n",
        "\"West_Virginia\",\n",
        "\"Wisconsin\",\n",
        "\"Wyoming\"]"
      ],
      "execution_count": 233,
      "outputs": []
    },
    {
      "cell_type": "code",
      "metadata": {
        "colab": {
          "base_uri": "https://localhost:8080/",
          "height": 687
        },
        "id": "zymYABsIMxLz",
        "outputId": "3a6c1b77-fe25-4a34-fc9f-ce791a29533d"
      },
      "source": [
        "#Using Pearson Correlation\n",
        "plt.figure(figsize=(12,10))\n",
        "alaska_cor = list_states[1].corr()\n",
        "sns.heatmap(alaska_cor, annot=True, cmap=plt.cm.Reds)\n",
        "plt.show()"
      ],
      "execution_count": 234,
      "outputs": [
        {
          "output_type": "display_data",
          "data": {
            "image/png": "[encoded data removed]",
            "text/plain": [
              "<Figure size 864x720 with 2 Axes>"
            ]
          },
          "metadata": {
            "tags": [],
            "needs_background": "light"
          }
        }
      ]
    },
    {
      "cell_type": "code",
      "metadata": {
        "colab": {
          "base_uri": "https://localhost:8080/"
        },
        "id": "0qOfV222Qoqk",
        "outputId": "b26ab6b7-08fd-4878-d843-834511e7231c"
      },
      "source": [
        "cor_target_alaska = alaska_cor[\"Confirmed\"]\n",
        "#Selecting highly correlated features\n",
        "relevant_features = cor_target_alaska[cor_target_alaska>0.75][1:]\n",
        "print(relevant_features)\n",
        "#Compare relevant features to each other and remove highly correlated ones/dependant features "
      ],
      "execution_count": 235,
      "outputs": [
        {
          "output_type": "stream",
          "text": [
            "Recovered        0.972091\n",
            "Active           0.989900\n",
            "Incident_Rate    0.999819\n",
            "People_Tested    0.983075\n",
            "Testing_Rate     0.984496\n",
            "Name: Confirmed, dtype: float64\n"
          ],
          "name": "stdout"
        }
      ]
    },
    {
      "cell_type": "code",
      "metadata": {
        "colab": {
          "base_uri": "https://localhost:8080/"
        },
        "id": "MWUYSMFsrU40",
        "outputId": "76ac7e68-f6e9-4187-dc51-798f3bbbc415"
      },
      "source": [
        "iterate_features = cor_target_alaska[cor_target_alaska>0.75][1:]\n",
        "for feature_i in range(len(iterate_features) - 1):\n",
        "    for j in range(feature_i+1, len(iterate_features)):\n",
        "      first_val = str(list(iterate_features.keys())[feature_i])\n",
        "      second_val = str(list(iterate_features.keys())[j])\n",
        "      val = corr_matrix[first_val][second_val]\n",
        "      if val > 0.6:\n",
        "        relevant_features = relevant_features.drop(str(list(iterate_features.keys())[j]))\n",
        "print(list(relevant_features.keys()))"
      ],
      "execution_count": 236,
      "outputs": [
        {
          "output_type": "stream",
          "text": [
            "['Recovered', 'Active', 'Incident_Rate']\n"
          ],
          "name": "stdout"
        }
      ]
    },
    {
      "cell_type": "code",
      "metadata": {
        "id": "An_CZilBQPSn"
      },
      "source": [
        "myDict = {} \n",
        "for i in range(len(list_states)):\n",
        "  cor = list_states[i].corr()\n",
        "  cor_target = cor[\"Confirmed\"]\n",
        "  relevant_features = cor_target[cor_target>0.75][1:]\n",
        "  #Among those relevant features, find the correlation among them and pick only one of the features if there is high correlation \n",
        "  iterate_features = cor_target[cor_target>0.75][1:]\n",
        "  for feature_i in range(len(iterate_features) - 1):\n",
        "    for j in range(feature_i+1, len(iterate_features)):\n",
        "      first_val = str(list(iterate_features.keys())[feature_i])\n",
        "      second_val = str(list(iterate_features.keys())[j])\n",
        "      val = corr_matrix[first_val][second_val]\n",
        "      if val > 0.75:\n",
        "        relevant_features = relevant_features.drop(str(list(iterate_features.keys())[j]))\n",
        "  #Store this resultant relevant_features list \n",
        "  myDict[list_state_names[i]] = list(relevant_features.keys())\n",
        "\n",
        "#Store into a text file \n",
        "f = open(\"/content/drive/My Drive/states_relevant_features.txt\",\"w\")\n",
        "f.write( str(myDict) )\n",
        "f.close()\n"
      ],
      "execution_count": 237,
      "outputs": []
    },
    {
      "cell_type": "code",
      "metadata": {
        "colab": {
          "base_uri": "https://localhost:8080/"
        },
        "id": "CKZ9Hlf8sKsg",
        "outputId": "5d9d81e1-64f0-4fa8-fb28-0dcfb3e0b34a"
      },
      "source": [
        "f = open(\"/content/drive/My Drive/states_relevant_features.txt\", \"r\")\n",
        "print(f.read())"
      ],
      "execution_count": 238,
      "outputs": [
        {
          "output_type": "stream",
          "text": [
            "{'Alabama': ['Recovered', 'Active', 'Incident_Rate', 'People_Hospitalized', 'Testing_Rate'], 'Alaska': ['Recovered', 'Active', 'Incident_Rate', 'Testing_Rate'], 'Arizona': ['Recovered', 'Active', 'Incident_Rate', 'People_Hospitalized', 'Testing_Rate'], 'Arkansas': ['Recovered', 'Active', 'Incident_Rate', 'People_Hospitalized', 'Testing_Rate'], 'California': ['Active', 'Incident_Rate', 'Testing_Rate'], 'Colorado': ['Recovered', 'Active', 'Incident_Rate', 'Testing_Rate'], 'Connecticut': ['Recovered', 'Active', 'Incident_Rate', 'Mortality_Rate', 'Testing_Rate'], 'Delaware': ['Recovered', 'Active', 'Incident_Rate', 'Testing_Rate'], 'Florida': ['Active', 'Incident_Rate', 'People_Hospitalized', 'Testing_Rate'], 'Georgia': ['Active', 'Incident_Rate', 'People_Hospitalized', 'Testing_Rate'], 'Hawaii': ['Recovered', 'Active', 'Incident_Rate', 'Testing_Rate'], 'Idaho': ['Recovered', 'Active', 'Incident_Rate', 'People_Hospitalized', 'Testing_Rate'], 'Illinois': ['Active', 'Incident_Rate', 'Testing_Rate'], 'Indiana': ['Recovered', 'Incident_Rate', 'People_Tested', 'Testing_Rate'], 'Iowa': ['Recovered', 'Active', 'Incident_Rate', 'Testing_Rate'], 'Kansas': ['Recovered', 'Active', 'Incident_Rate', 'Testing_Rate'], 'Kentucky': ['Recovered', 'Active', 'Incident_Rate', 'Testing_Rate'], 'Louisiana': ['Recovered', 'Incident_Rate', 'People_Tested', 'Testing_Rate'], 'Maine': ['Recovered', 'Incident_Rate', 'People_Tested', 'Testing_Rate'], 'Maryland': ['Recovered', 'Active', 'Incident_Rate', 'People_Hospitalized', 'Testing_Rate'], 'Massachusetts': ['Incident_Rate', 'People_Tested', 'Mortality_Rate', 'Testing_Rate'], 'Michigan': ['Recovered', 'Incident_Rate', 'People_Tested', 'Testing_Rate'], 'Minnesota': ['Recovered', 'Incident_Rate', 'People_Tested', 'People_Hospitalized', 'Testing_Rate'], 'Mississippi': ['Recovered', 'Active', 'Incident_Rate', 'Testing_Rate'], 'Missouri': ['Active', 'Incident_Rate', 'Testing_Rate'], 'Montana': ['Recovered', 'Active', 'Incident_Rate', 'People_Hospitalized', 'Testing_Rate'], 'Nebraska': ['Recovered', 'Incident_Rate', 'People_Tested', 'People_Hospitalized', 'Testing_Rate'], 'Nevada': ['Recovered', 'Active', 'Incident_Rate', 'Testing_Rate'], 'New_Hampshire': ['Recovered', 'Incident_Rate', 'People_Tested', 'People_Hospitalized', 'Mortality_Rate', 'Testing_Rate'], 'New_Jersey': ['Recovered', 'Active', 'Incident_Rate', 'Mortality_Rate', 'Testing_Rate'], 'New_Mexico': ['Recovered', 'Active', 'Incident_Rate', 'People_Hospitalized', 'Testing_Rate'], 'New_York': ['Recovered', 'Active', 'Incident_Rate', 'Testing_Rate'], 'North_Carolina': ['Recovered', 'Active', 'Incident_Rate', 'Testing_Rate'], 'North_Dakota': ['Recovered', 'Active', 'Incident_Rate', 'Testing_Rate'], 'Ohio': ['Recovered', 'Incident_Rate', 'People_Tested', 'Testing_Rate'], 'Oklahoma': ['Recovered', 'Active', 'Incident_Rate', 'People_Hospitalized', 'Testing_Rate'], 'Oregon': ['Recovered', 'Active', 'Incident_Rate', 'People_Hospitalized', 'Testing_Rate'], 'Pennsylvania': ['Recovered', 'Incident_Rate', 'People_Tested', 'Testing_Rate'], 'Rhode_Island': ['Recovered', 'Active', 'Incident_Rate', 'People_Hospitalized', 'Mortality_Rate', 'Testing_Rate'], 'South_Carolina': ['Recovered', 'Active', 'Incident_Rate', 'People_Hospitalized', 'Testing_Rate'], 'South_Dakota': ['Recovered', 'Incident_Rate', 'People_Tested', 'People_Hospitalized', 'Mortality_Rate', 'Testing_Rate'], 'Tennessee': ['Recovered', 'Active', 'Incident_Rate', 'People_Hospitalized', 'Testing_Rate'], 'Texas': ['Recovered', 'Active', 'Incident_Rate', 'Testing_Rate'], 'Utah': ['Recovered', 'Active', 'Incident_Rate', 'People_Hospitalized', 'Testing_Rate'], 'Vermont': ['Incident_Rate', 'People_Tested', 'Testing_Rate'], 'Virginia': ['Recovered', 'Active', 'Incident_Rate', 'People_Hospitalized', 'Testing_Rate'], 'Washington': ['Active', 'Incident_Rate', 'Testing_Rate'], 'West_Virginia': ['Recovered', 'Active', 'Incident_Rate', 'Testing_Rate'], 'Wisconsin': ['Recovered', 'Active', 'Incident_Rate', 'Testing_Rate'], 'Wyoming': ['Recovered', 'Active', 'Incident_Rate', 'Testing_Rate']}\n"
          ],
          "name": "stdout"
        }
      ]
    }
  ]
}