{
  "nbformat": 4,
  "nbformat_minor": 0,
  "metadata": {
    "colab": {
      "name": "Deaths_Feat_Select.ipynb",
      "provenance": [],
      "collapsed_sections": []
    },
    "kernelspec": {
      "name": "python3",
      "display_name": "Python 3"
    }
  },
  "cells": [
    {
      "cell_type": "code",
      "metadata": {
        "id": "O4vbTprR60Dn"
      },
      "source": [
        "import pandas as pd\n",
        "import numpy as np\n",
        "import matplotlib.pyplot as plt\n",
        "from sklearn import linear_model\n",
        "from scipy import stats\n",
        "import seaborn as sns\n",
        "from sklearn.model_selection import train_test_split\n",
        "from sklearn.linear_model import LinearRegression\n",
        "import sys"
      ],
      "execution_count": null,
      "outputs": []
    },
    {
      "cell_type": "code",
      "metadata": {
        "colab": {
          "base_uri": "https://localhost:8080/"
        },
        "id": "Wqo2qZER67Kq",
        "outputId": "b31bf086-921f-4426-f231-b683084523d6"
      },
      "source": [
        "from google.colab import drive\n",
        "drive.mount('/content/drive')"
      ],
      "execution_count": null,
      "outputs": [
        {
          "output_type": "stream",
          "text": [
            "Mounted at /content/drive\n"
          ],
          "name": "stdout"
        }
      ]
    },
    {
      "cell_type": "code",
      "metadata": {
        "id": "aGx5GemZ7E67"
      },
      "source": [
        "sys.path.append('/content')"
      ],
      "execution_count": null,
      "outputs": []
    },
    {
      "cell_type": "code",
      "metadata": {
        "colab": {
          "base_uri": "https://localhost:8080/",
          "height": 204
        },
        "id": "p0FfHjWg7F-O",
        "outputId": "8e4537e2-4056-4f7e-f159-d7cff7fc1c24"
      },
      "source": [
        "data_file1 =  \"train.csv\"\n",
        "train = pd.read_csv(data_file1)\n",
        "train.head()"
      ],
      "execution_count": null,
      "outputs": [
        {
          "output_type": "execute_result",
          "data": {
            "text/html": [
              "<div>\n",
              "<style scoped>\n",
              "    .dataframe tbody tr th:only-of-type {\n",
              "        vertical-align: middle;\n",
              "    }\n",
              "\n",
              "    .dataframe tbody tr th {\n",
              "        vertical-align: top;\n",
              "    }\n",
              "\n",
              "    .dataframe thead th {\n",
              "        text-align: right;\n",
              "    }\n",
              "</style>\n",
              "<table border=\"1\" class=\"dataframe\">\n",
              "  <thead>\n",
              "    <tr style=\"text-align: right;\">\n",
              "      <th></th>\n",
              "      <th>ID</th>\n",
              "      <th>Province_State</th>\n",
              "      <th>Date</th>\n",
              "      <th>Confirmed</th>\n",
              "      <th>Deaths</th>\n",
              "      <th>Recovered</th>\n",
              "      <th>Active</th>\n",
              "      <th>Incident_Rate</th>\n",
              "      <th>People_Tested</th>\n",
              "      <th>People_Hospitalized</th>\n",
              "      <th>Mortality_Rate</th>\n",
              "      <th>Testing_Rate</th>\n",
              "      <th>Hospitalization_Rate</th>\n",
              "    </tr>\n",
              "  </thead>\n",
              "  <tbody>\n",
              "    <tr>\n",
              "      <th>0</th>\n",
              "      <td>0</td>\n",
              "      <td>Alabama</td>\n",
              "      <td>04-12-2020</td>\n",
              "      <td>3563</td>\n",
              "      <td>93</td>\n",
              "      <td>NaN</td>\n",
              "      <td>3470.0</td>\n",
              "      <td>75.988020</td>\n",
              "      <td>21583.0</td>\n",
              "      <td>437.0</td>\n",
              "      <td>2.610160</td>\n",
              "      <td>460.300152</td>\n",
              "      <td>12.264945</td>\n",
              "    </tr>\n",
              "    <tr>\n",
              "      <th>1</th>\n",
              "      <td>1</td>\n",
              "      <td>Alaska</td>\n",
              "      <td>04-12-2020</td>\n",
              "      <td>272</td>\n",
              "      <td>8</td>\n",
              "      <td>66.0</td>\n",
              "      <td>264.0</td>\n",
              "      <td>45.504049</td>\n",
              "      <td>8038.0</td>\n",
              "      <td>31.0</td>\n",
              "      <td>2.941176</td>\n",
              "      <td>1344.711576</td>\n",
              "      <td>11.397059</td>\n",
              "    </tr>\n",
              "    <tr>\n",
              "      <th>2</th>\n",
              "      <td>2</td>\n",
              "      <td>Arizona</td>\n",
              "      <td>04-12-2020</td>\n",
              "      <td>3542</td>\n",
              "      <td>115</td>\n",
              "      <td>NaN</td>\n",
              "      <td>3427.0</td>\n",
              "      <td>48.662422</td>\n",
              "      <td>42109.0</td>\n",
              "      <td>NaN</td>\n",
              "      <td>3.246753</td>\n",
              "      <td>578.522286</td>\n",
              "      <td>NaN</td>\n",
              "    </tr>\n",
              "    <tr>\n",
              "      <th>3</th>\n",
              "      <td>3</td>\n",
              "      <td>Arkansas</td>\n",
              "      <td>04-12-2020</td>\n",
              "      <td>1280</td>\n",
              "      <td>27</td>\n",
              "      <td>367.0</td>\n",
              "      <td>1253.0</td>\n",
              "      <td>49.439423</td>\n",
              "      <td>19722.0</td>\n",
              "      <td>130.0</td>\n",
              "      <td>2.109375</td>\n",
              "      <td>761.753354</td>\n",
              "      <td>10.156250</td>\n",
              "    </tr>\n",
              "    <tr>\n",
              "      <th>4</th>\n",
              "      <td>4</td>\n",
              "      <td>California</td>\n",
              "      <td>04-12-2020</td>\n",
              "      <td>22795</td>\n",
              "      <td>640</td>\n",
              "      <td>NaN</td>\n",
              "      <td>22155.0</td>\n",
              "      <td>58.137726</td>\n",
              "      <td>190328.0</td>\n",
              "      <td>5234.0</td>\n",
              "      <td>2.812020</td>\n",
              "      <td>485.423869</td>\n",
              "      <td>22.961176</td>\n",
              "    </tr>\n",
              "  </tbody>\n",
              "</table>\n",
              "</div>"
            ],
            "text/plain": [
              "   ID Province_State  ... Testing_Rate  Hospitalization_Rate\n",
              "0   0        Alabama  ...   460.300152             12.264945\n",
              "1   1         Alaska  ...  1344.711576             11.397059\n",
              "2   2        Arizona  ...   578.522286                   NaN\n",
              "3   3       Arkansas  ...   761.753354             10.156250\n",
              "4   4     California  ...   485.423869             22.961176\n",
              "\n",
              "[5 rows x 13 columns]"
            ]
          },
          "metadata": {
            "tags": []
          },
          "execution_count": 48
        }
      ]
    },
    {
      "cell_type": "code",
      "metadata": {
        "colab": {
          "base_uri": "https://localhost:8080/",
          "height": 390
        },
        "id": "3yM11-BDLZ-N",
        "outputId": "3e7f667e-4319-42c1-9a5c-0904af810a33"
      },
      "source": [
        "train.corr(method='spearman')"
      ],
      "execution_count": null,
      "outputs": [
        {
          "output_type": "execute_result",
          "data": {
            "text/html": [
              "<div>\n",
              "<style scoped>\n",
              "    .dataframe tbody tr th:only-of-type {\n",
              "        vertical-align: middle;\n",
              "    }\n",
              "\n",
              "    .dataframe tbody tr th {\n",
              "        vertical-align: top;\n",
              "    }\n",
              "\n",
              "    .dataframe thead th {\n",
              "        text-align: right;\n",
              "    }\n",
              "</style>\n",
              "<table border=\"1\" class=\"dataframe\">\n",
              "  <thead>\n",
              "    <tr style=\"text-align: right;\">\n",
              "      <th></th>\n",
              "      <th>ID</th>\n",
              "      <th>Confirmed</th>\n",
              "      <th>Deaths</th>\n",
              "      <th>Recovered</th>\n",
              "      <th>Active</th>\n",
              "      <th>Incident_Rate</th>\n",
              "      <th>People_Tested</th>\n",
              "      <th>People_Hospitalized</th>\n",
              "      <th>Mortality_Rate</th>\n",
              "      <th>Testing_Rate</th>\n",
              "      <th>Hospitalization_Rate</th>\n",
              "    </tr>\n",
              "  </thead>\n",
              "  <tbody>\n",
              "    <tr>\n",
              "      <th>ID</th>\n",
              "      <td>1.000000</td>\n",
              "      <td>0.459767</td>\n",
              "      <td>0.310859</td>\n",
              "      <td>0.521934</td>\n",
              "      <td>0.265742</td>\n",
              "      <td>0.699920</td>\n",
              "      <td>0.640155</td>\n",
              "      <td>0.378113</td>\n",
              "      <td>-0.282762</td>\n",
              "      <td>0.920026</td>\n",
              "      <td>-0.366991</td>\n",
              "    </tr>\n",
              "    <tr>\n",
              "      <th>Confirmed</th>\n",
              "      <td>0.459767</td>\n",
              "      <td>1.000000</td>\n",
              "      <td>0.944852</td>\n",
              "      <td>0.846062</td>\n",
              "      <td>0.909009</td>\n",
              "      <td>0.789621</td>\n",
              "      <td>0.927445</td>\n",
              "      <td>0.961591</td>\n",
              "      <td>0.185215</td>\n",
              "      <td>0.490726</td>\n",
              "      <td>0.046137</td>\n",
              "    </tr>\n",
              "    <tr>\n",
              "      <th>Deaths</th>\n",
              "      <td>0.310859</td>\n",
              "      <td>0.944852</td>\n",
              "      <td>1.000000</td>\n",
              "      <td>0.768643</td>\n",
              "      <td>0.887478</td>\n",
              "      <td>0.691861</td>\n",
              "      <td>0.846904</td>\n",
              "      <td>0.974543</td>\n",
              "      <td>0.474882</td>\n",
              "      <td>0.364541</td>\n",
              "      <td>0.285448</td>\n",
              "    </tr>\n",
              "    <tr>\n",
              "      <th>Recovered</th>\n",
              "      <td>0.521934</td>\n",
              "      <td>0.846062</td>\n",
              "      <td>0.768643</td>\n",
              "      <td>1.000000</td>\n",
              "      <td>0.596269</td>\n",
              "      <td>0.715843</td>\n",
              "      <td>0.849634</td>\n",
              "      <td>0.766537</td>\n",
              "      <td>0.104319</td>\n",
              "      <td>0.536295</td>\n",
              "      <td>-0.072914</td>\n",
              "    </tr>\n",
              "    <tr>\n",
              "      <th>Active</th>\n",
              "      <td>0.265742</td>\n",
              "      <td>0.909009</td>\n",
              "      <td>0.887478</td>\n",
              "      <td>0.596269</td>\n",
              "      <td>1.000000</td>\n",
              "      <td>0.650674</td>\n",
              "      <td>0.792486</td>\n",
              "      <td>0.907892</td>\n",
              "      <td>0.228473</td>\n",
              "      <td>0.294749</td>\n",
              "      <td>0.171564</td>\n",
              "    </tr>\n",
              "    <tr>\n",
              "      <th>Incident_Rate</th>\n",
              "      <td>0.699920</td>\n",
              "      <td>0.789621</td>\n",
              "      <td>0.691861</td>\n",
              "      <td>0.715843</td>\n",
              "      <td>0.650674</td>\n",
              "      <td>1.000000</td>\n",
              "      <td>0.742636</td>\n",
              "      <td>0.720557</td>\n",
              "      <td>0.003329</td>\n",
              "      <td>0.782848</td>\n",
              "      <td>-0.225468</td>\n",
              "    </tr>\n",
              "    <tr>\n",
              "      <th>People_Tested</th>\n",
              "      <td>0.640155</td>\n",
              "      <td>0.927445</td>\n",
              "      <td>0.846904</td>\n",
              "      <td>0.849634</td>\n",
              "      <td>0.792486</td>\n",
              "      <td>0.742636</td>\n",
              "      <td>1.000000</td>\n",
              "      <td>0.877763</td>\n",
              "      <td>0.083519</td>\n",
              "      <td>0.667108</td>\n",
              "      <td>-0.007044</td>\n",
              "    </tr>\n",
              "    <tr>\n",
              "      <th>People_Hospitalized</th>\n",
              "      <td>0.378113</td>\n",
              "      <td>0.961591</td>\n",
              "      <td>0.974543</td>\n",
              "      <td>0.766537</td>\n",
              "      <td>0.907892</td>\n",
              "      <td>0.720557</td>\n",
              "      <td>0.877763</td>\n",
              "      <td>1.000000</td>\n",
              "      <td>0.398195</td>\n",
              "      <td>0.447365</td>\n",
              "      <td>0.295148</td>\n",
              "    </tr>\n",
              "    <tr>\n",
              "      <th>Mortality_Rate</th>\n",
              "      <td>-0.282762</td>\n",
              "      <td>0.185215</td>\n",
              "      <td>0.474882</td>\n",
              "      <td>0.104319</td>\n",
              "      <td>0.228473</td>\n",
              "      <td>0.003329</td>\n",
              "      <td>0.083519</td>\n",
              "      <td>0.398195</td>\n",
              "      <td>1.000000</td>\n",
              "      <td>-0.187367</td>\n",
              "      <td>0.707264</td>\n",
              "    </tr>\n",
              "    <tr>\n",
              "      <th>Testing_Rate</th>\n",
              "      <td>0.920026</td>\n",
              "      <td>0.490726</td>\n",
              "      <td>0.364541</td>\n",
              "      <td>0.536295</td>\n",
              "      <td>0.294749</td>\n",
              "      <td>0.782848</td>\n",
              "      <td>0.667108</td>\n",
              "      <td>0.447365</td>\n",
              "      <td>-0.187367</td>\n",
              "      <td>1.000000</td>\n",
              "      <td>-0.330929</td>\n",
              "    </tr>\n",
              "    <tr>\n",
              "      <th>Hospitalization_Rate</th>\n",
              "      <td>-0.366991</td>\n",
              "      <td>0.046137</td>\n",
              "      <td>0.285448</td>\n",
              "      <td>-0.072914</td>\n",
              "      <td>0.171564</td>\n",
              "      <td>-0.225468</td>\n",
              "      <td>-0.007044</td>\n",
              "      <td>0.295148</td>\n",
              "      <td>0.707264</td>\n",
              "      <td>-0.330929</td>\n",
              "      <td>1.000000</td>\n",
              "    </tr>\n",
              "  </tbody>\n",
              "</table>\n",
              "</div>"
            ],
            "text/plain": [
              "                            ID  Confirmed  ...  Testing_Rate  Hospitalization_Rate\n",
              "ID                    1.000000   0.459767  ...      0.920026             -0.366991\n",
              "Confirmed             0.459767   1.000000  ...      0.490726              0.046137\n",
              "Deaths                0.310859   0.944852  ...      0.364541              0.285448\n",
              "Recovered             0.521934   0.846062  ...      0.536295             -0.072914\n",
              "Active                0.265742   0.909009  ...      0.294749              0.171564\n",
              "Incident_Rate         0.699920   0.789621  ...      0.782848             -0.225468\n",
              "People_Tested         0.640155   0.927445  ...      0.667108             -0.007044\n",
              "People_Hospitalized   0.378113   0.961591  ...      0.447365              0.295148\n",
              "Mortality_Rate       -0.282762   0.185215  ...     -0.187367              0.707264\n",
              "Testing_Rate          0.920026   0.490726  ...      1.000000             -0.330929\n",
              "Hospitalization_Rate -0.366991   0.046137  ...     -0.330929              1.000000\n",
              "\n",
              "[11 rows x 11 columns]"
            ]
          },
          "metadata": {
            "tags": []
          },
          "execution_count": 50
        }
      ]
    },
    {
      "cell_type": "code",
      "metadata": {
        "colab": {
          "base_uri": "https://localhost:8080/"
        },
        "id": "OPewj8-YGR64",
        "outputId": "59a8d090-b8c3-432e-c671-3d7fac1d9fed"
      },
      "source": [
        "df = pd.DataFrame(train)\n",
        "\n",
        "#X = df.drop(\"\",1)   #Feature Matrix\n",
        "#y = df[\"Deaths\"]          #Target Variable\n",
        "\n",
        "df = df.drop(['Confirmed', 'ID'], axis=1)\n",
        "df = df.replace(np.NaN, 0).dropna(axis=1)\n",
        "corr_matrix = df.corr()\n",
        "print(corr_matrix)"
      ],
      "execution_count": null,
      "outputs": [
        {
          "output_type": "stream",
          "text": [
            "                        Deaths  Recovered  ...  Testing_Rate  Hospitalization_Rate\n",
            "Deaths                1.000000   0.377924  ...      0.345898              0.137444\n",
            "Recovered             0.377924   1.000000  ...      0.317542             -0.164700\n",
            "Active                0.687528   0.143422  ...      0.324393             -0.010424\n",
            "Incident_Rate         0.536329   0.431298  ...      0.721931             -0.128452\n",
            "People_Tested         0.674389   0.413880  ...      0.497311             -0.112693\n",
            "People_Hospitalized   0.856754   0.187234  ...      0.246015              0.381740\n",
            "Mortality_Rate        0.492999   0.052682  ...     -0.060319              0.290391\n",
            "Testing_Rate          0.345898   0.317542  ...      1.000000             -0.231493\n",
            "Hospitalization_Rate  0.137444  -0.164700  ...     -0.231493              1.000000\n",
            "\n",
            "[9 rows x 9 columns]\n"
          ],
          "name": "stdout"
        }
      ]
    },
    {
      "cell_type": "code",
      "metadata": {
        "id": "z9C6-Q8g7q6A"
      },
      "source": [
        "#Find features that are more highly correlated for confirmed cases and then deaths \n",
        "gb = df.groupby('Province_State')\n",
        "\n",
        "Alabama = gb.get_group(\"Alabama\")\n",
        "Alaska = gb.get_group(\"Alaska\")\n",
        "Arizona = gb.get_group(\"Arizona\")\n",
        "Arkansas = gb.get_group(\"Arkansas\")\n",
        "California = gb.get_group(\"California\")\n",
        "Colorado = gb.get_group(\"Colorado\")\n",
        "Connecticut = gb.get_group(\"Connecticut\")\n",
        "Delaware = gb.get_group(\"Delaware\")\n",
        "Florida = gb.get_group(\"Florida\")\n",
        "Georgia = gb.get_group(\"Georgia\")\n",
        "Hawaii = gb.get_group(\"Hawaii\")\n",
        "Idaho = gb.get_group(\"Idaho\")\n",
        "Illinois = gb.get_group(\"Illinois\")\n",
        "Indiana = gb.get_group(\"Indiana\")\n",
        "Iowa = gb.get_group(\"Iowa\")\n",
        "Kansas = gb.get_group(\"Kansas\")\n",
        "Kentucky = gb.get_group(\"Kentucky\")\n",
        "Louisiana = gb.get_group(\"Louisiana\")\n",
        "Maine = gb.get_group(\"Maine\")\n",
        "Maryland = gb.get_group(\"Maryland\")\n",
        "Massachusetts = gb.get_group(\"Massachusetts\")\n",
        "Michigan = gb.get_group(\"Michigan\")\n",
        "Minnesota = gb.get_group(\"Minnesota\")\n",
        "Mississippi = gb.get_group(\"Mississippi\")\n",
        "Missouri = gb.get_group(\"Missouri\")\n",
        "Montana = gb.get_group(\"Montana\")\n",
        "Nebraska = gb.get_group(\"Nebraska\")\n",
        "Nevada = gb.get_group(\"Nevada\")\n",
        "New_Hampshire = gb.get_group(\"New Hampshire\")\n",
        "New_Jersey = gb.get_group(\"New Jersey\")\n",
        "New_Mexico = gb.get_group(\"New Mexico\")\n",
        "New_York = gb.get_group(\"New York\")\n",
        "North_Carolina = gb.get_group(\"North Carolina\")\n",
        "North_Dakota = gb.get_group(\"North Dakota\")\n",
        "Ohio = gb.get_group(\"Ohio\")\n",
        "Oklahoma = gb.get_group(\"Oklahoma\")\n",
        "Oregon = gb.get_group(\"Oregon\")\n",
        "Pennsylvania = gb.get_group(\"Pennsylvania\")\n",
        "Rhode_Island = gb.get_group(\"Rhode Island\")\n",
        "South_Carolina = gb.get_group(\"South Carolina\")\n",
        "South_Dakota = gb.get_group(\"South Dakota\")\n",
        "Tennessee = gb.get_group(\"Tennessee\")\n",
        "Texas = gb.get_group(\"Texas\")\n",
        "Utah = gb.get_group(\"Utah\")\n",
        "Vermont = gb.get_group(\"Vermont\")\n",
        "Virginia = gb.get_group(\"Virginia\")\n",
        "Washington = gb.get_group(\"Washington\")\n",
        "West_Virginia = gb.get_group(\"West Virginia\")\n",
        "Wisconsin = gb.get_group(\"Wisconsin\")\n",
        "Wyoming = gb.get_group(\"Wyoming\")\n",
        "\n",
        "# print(Louisiana['Deaths'], Louisiana['Mortality_Rate'])\n",
        "\n",
        "#Find datasets to add - population and effectiveness of quarantine"
      ],
      "execution_count": null,
      "outputs": []
    },
    {
      "cell_type": "code",
      "metadata": {
        "id": "30oPEuMjLkmj"
      },
      "source": [
        "list_states = [Alabama, \n",
        "Alaska,\n",
        "Arizona,\n",
        "Arkansas,\n",
        "California,\n",
        "Colorado,\n",
        "Connecticut,\n",
        "Delaware,\n",
        "Florida,\n",
        "Georgia,\n",
        "Hawaii,\n",
        "Idaho,\n",
        "Illinois,\n",
        "Indiana,\n",
        "Iowa,\n",
        "Kansas,\n",
        "Kentucky,\n",
        "Louisiana,\n",
        "Maine,\n",
        "Maryland,\n",
        "Massachusetts,\n",
        "Michigan,\n",
        "Minnesota,\n",
        "Mississippi,\n",
        "Missouri,\n",
        "Montana,\n",
        "Nebraska,\n",
        "Nevada,\n",
        "New_Hampshire,\n",
        "New_Jersey,\n",
        "New_Mexico,\n",
        "New_York,\n",
        "North_Carolina,\n",
        "North_Dakota,\n",
        "Ohio,\n",
        "Oklahoma,\n",
        "Oregon,\n",
        "Pennsylvania,\n",
        "Rhode_Island,\n",
        "South_Carolina,\n",
        "South_Dakota,\n",
        "Tennessee,\n",
        "Texas,\n",
        "Utah,\n",
        "Vermont,\n",
        "Virginia,\n",
        "Washington,\n",
        "West_Virginia,\n",
        "Wisconsin,\n",
        "Wyoming]\n"
      ],
      "execution_count": null,
      "outputs": []
    },
    {
      "cell_type": "code",
      "metadata": {
        "id": "oXSiPYcnVpnQ"
      },
      "source": [
        "list_state_names = [\"Alabama\", \n",
        "\"Alaska\",\n",
        "\"Arizona\",\n",
        "\"Arkansas\",\n",
        "\"California\",\n",
        "\"Colorado\",\n",
        "\"Connecticut\",\n",
        "\"Delaware\",\n",
        "\"Florida\",\n",
        "\"Georgia\",\n",
        "\"Hawaii\",\n",
        "\"Idaho\",\n",
        "\"Illinois\",\n",
        "\"Indiana\",\n",
        "\"Iowa\",\n",
        "\"Kansas\",\n",
        "\"Kentucky\",\n",
        "\"Louisiana\",\n",
        "\"Maine\",\n",
        "\"Maryland\",\n",
        "\"Massachusetts\",\n",
        "\"Michigan\",\n",
        "\"Minnesota\",\n",
        "\"Mississippi\",\n",
        "\"Missouri\",\n",
        "\"Montana\",\n",
        "\"Nebraska\",\n",
        "\"Nevada\",\n",
        "\"New_Hampshire\",\n",
        "\"New_Jersey\",\n",
        "\"New_Mexico\",\n",
        "\"New_York\",\n",
        "\"North_Carolina\",\n",
        "\"North_Dakota\",\n",
        "\"Ohio\",\n",
        "\"Oklahoma\",\n",
        "\"Oregon\",\n",
        "\"Pennsylvania\",\n",
        "\"Rhode_Island\",\n",
        "\"South_Carolina\",\n",
        "\"South_Dakota\",\n",
        "\"Tennessee\",\n",
        "\"Texas\",\n",
        "\"Utah\",\n",
        "\"Vermont\",\n",
        "\"Virginia\",\n",
        "\"Washington\",\n",
        "\"West_Virginia\",\n",
        "\"Wisconsin\",\n",
        "\"Wyoming\"]"
      ],
      "execution_count": null,
      "outputs": []
    },
    {
      "cell_type": "code",
      "metadata": {
        "colab": {
          "base_uri": "https://localhost:8080/",
          "height": 687
        },
        "id": "zymYABsIMxLz",
        "outputId": "8ac20dfd-5c7e-40db-9c4d-7006ffa7e5db"
      },
      "source": [
        "#Using Pearson Correlation\n",
        "plt.figure(figsize=(12,10))\n",
        "alaska_cor = list_states[17].corr()\n",
        "sns.heatmap(alaska_cor, annot=True, cmap=plt.cm.Reds)\n",
        "plt.show()"
      ],
      "execution_count": null,
      "outputs": [
        {
          "output_type": "display_data",
          "data": {
            "image/png": "[encoded data removed]",
            "text/plain": [
              "<Figure size 864x720 with 2 Axes>"
            ]
          },
          "metadata": {
            "tags": [],
            "needs_background": "light"
          }
        }
      ]
    },
    {
      "cell_type": "code",
      "metadata": {
        "colab": {
          "base_uri": "https://localhost:8080/"
        },
        "id": "0qOfV222Qoqk",
        "outputId": "0a0f2c72-44fa-499c-b807-20c8f7e315b9"
      },
      "source": [
        "death_target = alaska_cor[\"Deaths\"]\n",
        "# print(death_target)\n",
        "#Selecting highly correlated features\n",
        "relevant_features = death_target[(death_target>0.75)][1:]\n",
        "print(relevant_features)\n",
        "#Compare relevant features to each other and remove highly correlated ones/dependant features "
      ],
      "execution_count": null,
      "outputs": [
        {
          "output_type": "stream",
          "text": [
            "Recovered        0.951286\n",
            "Incident_Rate    0.928946\n",
            "People_Tested    0.945868\n",
            "Testing_Rate     0.945661\n",
            "Name: Deaths, dtype: float64\n"
          ],
          "name": "stdout"
        }
      ]
    },
    {
      "cell_type": "code",
      "metadata": {
        "colab": {
          "base_uri": "https://localhost:8080/"
        },
        "id": "a4KOt5X-XPSO",
        "outputId": "644c5e5d-2090-4511-b9e6-2afed3990775"
      },
      "source": [
        "#Correlation among relevant features \n",
        "#print(list_states[4])\n",
        "california_cor = list_states[4].corr()\n",
        "cor_t = california_cor[\"Deaths\"]\n",
        "# print(cor_t)\n",
        "#Selecting highly correlated features\n",
        "relevant_features_cali = cor_t[(cor_t>0.75)][1:]\n",
        "print(relevant_features_cali)\n",
        "# print(str(list(relevant_features_cali.keys())[0]))\n",
        "# relevant_features_cali = relevant_features_cali.drop(str(list(relevant_features_cali.keys())[0]))\n",
        "# print(relevant_features_cali)\n",
        "# print(df[[\"Recovered\",\"Active\"]].corr())\n",
        "# print(df[[\"Incident_Rate\",\"Recovered\"]].corr())\n",
        "# print(df[[\"People_Tested\",\"Recovered\"]].corr())\n",
        "# print(df[[\"Testing_Rate\",\"Recovered\"]].corr())\n",
        "# for i in range(len(relevant_features)):\n",
        "#   #for j in range(len(relevant_features)):\n",
        "#   print(df[[str(list(relevant_features.keys())[i]),str(list(relevant_features.keys())[j])]].corr())"
      ],
      "execution_count": null,
      "outputs": [
        {
          "output_type": "stream",
          "text": [
            "Active           0.983859\n",
            "Incident_Rate    0.984290\n",
            "People_Tested    0.992111\n",
            "Testing_Rate     0.992086\n",
            "Name: Deaths, dtype: float64\n"
          ],
          "name": "stdout"
        }
      ]
    },
    {
      "cell_type": "code",
      "metadata": {
        "colab": {
          "base_uri": "https://localhost:8080/"
        },
        "id": "zrH81vZ4hAlK",
        "outputId": "42bc7bae-039b-4889-f9a4-f5f4ecd9d62e"
      },
      "source": [
        "print(relevant_features_cali)\n",
        "# new_features \n",
        "# for i in range(len(iterate_features) - 1):\n",
        "#   for j in range(i+1, len(iterate_features)):\n",
        "#     val = corr_matrix[str(list(iterate_features.keys())[i])][str(list(iterate_features.keys())[j])]\n",
        "#     print(str(list(iterate_features.keys())[i]))\n",
        "#     print(str(list(iterate_features.keys())[j]))\n",
        "#     print(val)\n",
        "#     if val > 0.6:\n",
        "#       relevant_features_cali = relevant_features_cali.drop(str(list(iterate_features.keys())[j]))\n",
        "#print(relevant_features_cali)"
      ],
      "execution_count": null,
      "outputs": [
        {
          "output_type": "stream",
          "text": [
            "Active           0.983859\n",
            "Incident_Rate    0.984290\n",
            "People_Tested    0.992111\n",
            "Testing_Rate     0.992086\n",
            "Name: Deaths, dtype: float64\n"
          ],
          "name": "stdout"
        }
      ]
    },
    {
      "cell_type": "code",
      "metadata": {
        "colab": {
          "base_uri": "https://localhost:8080/"
        },
        "id": "PtjQ_luaeDfP",
        "outputId": "20dd61d2-24d2-440c-aa10-e486261c610f"
      },
      "source": [
        "# print(corr_matrix)\n",
        "for i in range(len(relevant_features_cali)):\n",
        "  for j in range(i+1, len(relevant_features_cali)):\n",
        "    val = corr_matrix[str(list(relevant_features_cali.keys())[i])][str(list(relevant_features_cali.keys())[j])]\n",
        "    if val > 0.75:\n",
        "      relevant_features_cali.drop(str(list(relevant_features_cali.keys())[j]))\n",
        "print(relevant_features_cali)\n",
        "print(list(relevant_features_cali.keys()))"
      ],
      "execution_count": null,
      "outputs": [
        {
          "output_type": "stream",
          "text": [
            "Active           0.983859\n",
            "Incident_Rate    0.984290\n",
            "People_Tested    0.992111\n",
            "Testing_Rate     0.992086\n",
            "Name: Deaths, dtype: float64\n",
            "['Active', 'Incident_Rate', 'People_Tested', 'Testing_Rate']\n"
          ],
          "name": "stdout"
        }
      ]
    },
    {
      "cell_type": "code",
      "metadata": {
        "id": "An_CZilBQPSn"
      },
      "source": [
        "myDict = {} \n",
        "for i in range(len(list_states)):\n",
        "  cor = list_states[i].corr()\n",
        "  cor_target = cor[\"Deaths\"]\n",
        "  relevant_features = cor_target[(cor_target>0.75)][1:]\n",
        "  # print(relevant_features)\n",
        "  iterate_features = cor_target[cor_target>0.75][1:]\n",
        "  for feature_i in range(len(iterate_features) - 1):\n",
        "    for j in range(feature_i+1, len(iterate_features)):\n",
        "      first_val = str(list(iterate_features.keys())[feature_i])\n",
        "      second_val = str(list(iterate_features.keys())[j])\n",
        "      val = corr_matrix[first_val][second_val]\n",
        "      if val > 0.75:\n",
        "        relevant_features = relevant_features.drop(str(list(iterate_features.keys())[j]))\n",
        "  #Store this resultant relevant_features list \n",
        "  # print(list(relevant_features.keys()))\n",
        "  myDict[list_state_names[i]] = list(relevant_features.keys())\n",
        "  #Among those relevant features, find the correlation among them and pick one of the features if there is high correlation \n",
        "# myDict\n",
        "# myDict"
      ],
      "execution_count": 162,
      "outputs": []
    },
    {
      "cell_type": "code",
      "metadata": {
        "colab": {
          "base_uri": "https://localhost:8080/"
        },
        "id": "yjzS9z_R_Gir",
        "outputId": "7e1028e9-7889-4146-e028-0b45fceff501"
      },
      "source": [
        "f = open(\"/content/states_relevant_features_death.txt\", \"w\")\n",
        "print(str(myDict))\n",
        "f.write(str(myDict))\n",
        "f.close()"
      ],
      "execution_count": 168,
      "outputs": [
        {
          "output_type": "stream",
          "text": [
            "{'Alabama': ['Recovered', 'Active', 'Incident_Rate', 'People_Hospitalized', 'Testing_Rate'], 'Alaska': ['Recovered', 'Active', 'Incident_Rate', 'Testing_Rate'], 'Arizona': ['Recovered', 'Active', 'Incident_Rate', 'People_Hospitalized', 'Testing_Rate'], 'Arkansas': ['Recovered', 'Active', 'Incident_Rate', 'People_Hospitalized', 'Testing_Rate'], 'California': ['Active', 'Incident_Rate', 'Testing_Rate'], 'Colorado': ['Recovered', 'Active', 'Incident_Rate', 'People_Hospitalized', 'Testing_Rate'], 'Connecticut': ['Recovered', 'Active', 'Incident_Rate', 'Mortality_Rate'], 'Delaware': ['Recovered', 'Active', 'Incident_Rate', 'Testing_Rate'], 'Florida': ['Active', 'Incident_Rate', 'People_Hospitalized', 'Testing_Rate'], 'Georgia': ['Active', 'Incident_Rate', 'People_Hospitalized', 'Testing_Rate'], 'Hawaii': ['Recovered', 'Active', 'Incident_Rate', 'Testing_Rate'], 'Idaho': ['Recovered', 'Active', 'Incident_Rate', 'People_Hospitalized', 'Testing_Rate'], 'Illinois': ['Active', 'Incident_Rate', 'Testing_Rate'], 'Indiana': ['Recovered', 'Incident_Rate', 'People_Tested', 'People_Hospitalized', 'Testing_Rate'], 'Iowa': ['Recovered', 'Active', 'Incident_Rate', 'Testing_Rate'], 'Kansas': ['Recovered', 'Active', 'Incident_Rate', 'People_Hospitalized', 'Testing_Rate'], 'Kentucky': ['Recovered', 'Active', 'Incident_Rate', 'Testing_Rate'], 'Louisiana': ['Recovered', 'Incident_Rate', 'People_Tested', 'Testing_Rate'], 'Maine': ['Recovered', 'Incident_Rate', 'People_Tested', 'Testing_Rate'], 'Maryland': ['Recovered', 'Active', 'Incident_Rate', 'People_Hospitalized', 'Testing_Rate'], 'Massachusetts': ['Incident_Rate', 'People_Tested', 'People_Hospitalized', 'Mortality_Rate', 'Testing_Rate'], 'Michigan': ['Recovered', 'Incident_Rate', 'People_Tested', 'Testing_Rate'], 'Minnesota': ['Recovered', 'Incident_Rate', 'People_Tested', 'People_Hospitalized', 'Testing_Rate'], 'Mississippi': ['Recovered', 'Active', 'Incident_Rate', 'People_Hospitalized', 'Testing_Rate'], 'Missouri': ['Active', 'Incident_Rate', 'Testing_Rate'], 'Montana': ['Recovered', 'Active', 'Incident_Rate', 'People_Hospitalized', 'Testing_Rate'], 'Nebraska': ['Recovered', 'Incident_Rate', 'People_Tested', 'People_Hospitalized', 'Testing_Rate', 'Hospitalization_Rate'], 'Nevada': ['Recovered', 'Active', 'Incident_Rate', 'Testing_Rate'], 'New_Hampshire': ['Recovered', 'Incident_Rate', 'People_Tested', 'People_Hospitalized', 'Mortality_Rate', 'Testing_Rate'], 'New_Jersey': ['Recovered', 'Active', 'Incident_Rate', 'Mortality_Rate', 'Testing_Rate'], 'New_Mexico': ['Recovered', 'Active', 'Incident_Rate', 'People_Hospitalized', 'Testing_Rate'], 'New_York': ['Recovered', 'Active', 'Incident_Rate'], 'North_Carolina': ['Recovered', 'Active', 'Incident_Rate', 'Testing_Rate'], 'North_Dakota': ['Recovered', 'Incident_Rate', 'People_Tested', 'People_Hospitalized', 'Testing_Rate'], 'Ohio': ['Recovered', 'Incident_Rate', 'People_Tested', 'People_Hospitalized', 'Testing_Rate'], 'Oklahoma': ['Recovered', 'Active', 'Incident_Rate', 'People_Hospitalized', 'Testing_Rate'], 'Oregon': ['Recovered', 'Active', 'Incident_Rate', 'Testing_Rate'], 'Pennsylvania': ['Recovered', 'Incident_Rate', 'People_Tested', 'Testing_Rate'], 'Rhode_Island': ['Recovered', 'Active', 'Incident_Rate', 'People_Hospitalized', 'Mortality_Rate', 'Testing_Rate'], 'South_Carolina': ['Recovered', 'Active', 'Incident_Rate', 'People_Hospitalized', 'Testing_Rate'], 'South_Dakota': ['Recovered', 'Incident_Rate', 'People_Tested', 'People_Hospitalized', 'Mortality_Rate', 'Testing_Rate'], 'Tennessee': ['Recovered', 'Active', 'Incident_Rate', 'People_Hospitalized', 'Testing_Rate'], 'Texas': ['Recovered', 'Active', 'Incident_Rate', 'Testing_Rate'], 'Utah': ['Recovered', 'Incident_Rate', 'People_Tested', 'People_Hospitalized', 'Testing_Rate'], 'Vermont': [], 'Virginia': ['Recovered', 'Active', 'Incident_Rate', 'People_Hospitalized', 'Testing_Rate'], 'Washington': ['Active', 'Incident_Rate', 'People_Hospitalized', 'Testing_Rate'], 'West_Virginia': ['Recovered', 'Active', 'Incident_Rate', 'Testing_Rate'], 'Wisconsin': ['Recovered', 'Active', 'Incident_Rate', 'People_Hospitalized', 'Testing_Rate'], 'Wyoming': ['Recovered', 'Incident_Rate', 'People_Tested', 'Testing_Rate']}\n"
          ],
          "name": "stdout"
        }
      ]
    },
    {
      "cell_type": "code",
      "metadata": {
        "colab": {
          "base_uri": "https://localhost:8080/"
        },
        "id": "LoHFzXFWB5ii",
        "outputId": "46200151-b464-4740-ded9-aa38706a233b"
      },
      "source": [
        "f = open(\"/content/states_relevant_features_death.txt\", \"r\")\n",
        "print(f.read())"
      ],
      "execution_count": 169,
      "outputs": [
        {
          "output_type": "stream",
          "text": [
            "{'Alabama': ['Recovered', 'Active', 'Incident_Rate', 'People_Hospitalized', 'Testing_Rate'], 'Alaska': ['Recovered', 'Active', 'Incident_Rate', 'Testing_Rate'], 'Arizona': ['Recovered', 'Active', 'Incident_Rate', 'People_Hospitalized', 'Testing_Rate'], 'Arkansas': ['Recovered', 'Active', 'Incident_Rate', 'People_Hospitalized', 'Testing_Rate'], 'California': ['Active', 'Incident_Rate', 'Testing_Rate'], 'Colorado': ['Recovered', 'Active', 'Incident_Rate', 'People_Hospitalized', 'Testing_Rate'], 'Connecticut': ['Recovered', 'Active', 'Incident_Rate', 'Mortality_Rate'], 'Delaware': ['Recovered', 'Active', 'Incident_Rate', 'Testing_Rate'], 'Florida': ['Active', 'Incident_Rate', 'People_Hospitalized', 'Testing_Rate'], 'Georgia': ['Active', 'Incident_Rate', 'People_Hospitalized', 'Testing_Rate'], 'Hawaii': ['Recovered', 'Active', 'Incident_Rate', 'Testing_Rate'], 'Idaho': ['Recovered', 'Active', 'Incident_Rate', 'People_Hospitalized', 'Testing_Rate'], 'Illinois': ['Active', 'Incident_Rate', 'Testing_Rate'], 'Indiana': ['Recovered', 'Incident_Rate', 'People_Tested', 'People_Hospitalized', 'Testing_Rate'], 'Iowa': ['Recovered', 'Active', 'Incident_Rate', 'Testing_Rate'], 'Kansas': ['Recovered', 'Active', 'Incident_Rate', 'People_Hospitalized', 'Testing_Rate'], 'Kentucky': ['Recovered', 'Active', 'Incident_Rate', 'Testing_Rate'], 'Louisiana': ['Recovered', 'Incident_Rate', 'People_Tested', 'Testing_Rate'], 'Maine': ['Recovered', 'Incident_Rate', 'People_Tested', 'Testing_Rate'], 'Maryland': ['Recovered', 'Active', 'Incident_Rate', 'People_Hospitalized', 'Testing_Rate'], 'Massachusetts': ['Incident_Rate', 'People_Tested', 'People_Hospitalized', 'Mortality_Rate', 'Testing_Rate'], 'Michigan': ['Recovered', 'Incident_Rate', 'People_Tested', 'Testing_Rate'], 'Minnesota': ['Recovered', 'Incident_Rate', 'People_Tested', 'People_Hospitalized', 'Testing_Rate'], 'Mississippi': ['Recovered', 'Active', 'Incident_Rate', 'People_Hospitalized', 'Testing_Rate'], 'Missouri': ['Active', 'Incident_Rate', 'Testing_Rate'], 'Montana': ['Recovered', 'Active', 'Incident_Rate', 'People_Hospitalized', 'Testing_Rate'], 'Nebraska': ['Recovered', 'Incident_Rate', 'People_Tested', 'People_Hospitalized', 'Testing_Rate', 'Hospitalization_Rate'], 'Nevada': ['Recovered', 'Active', 'Incident_Rate', 'Testing_Rate'], 'New_Hampshire': ['Recovered', 'Incident_Rate', 'People_Tested', 'People_Hospitalized', 'Mortality_Rate', 'Testing_Rate'], 'New_Jersey': ['Recovered', 'Active', 'Incident_Rate', 'Mortality_Rate', 'Testing_Rate'], 'New_Mexico': ['Recovered', 'Active', 'Incident_Rate', 'People_Hospitalized', 'Testing_Rate'], 'New_York': ['Recovered', 'Active', 'Incident_Rate'], 'North_Carolina': ['Recovered', 'Active', 'Incident_Rate', 'Testing_Rate'], 'North_Dakota': ['Recovered', 'Incident_Rate', 'People_Tested', 'People_Hospitalized', 'Testing_Rate'], 'Ohio': ['Recovered', 'Incident_Rate', 'People_Tested', 'People_Hospitalized', 'Testing_Rate'], 'Oklahoma': ['Recovered', 'Active', 'Incident_Rate', 'People_Hospitalized', 'Testing_Rate'], 'Oregon': ['Recovered', 'Active', 'Incident_Rate', 'Testing_Rate'], 'Pennsylvania': ['Recovered', 'Incident_Rate', 'People_Tested', 'Testing_Rate'], 'Rhode_Island': ['Recovered', 'Active', 'Incident_Rate', 'People_Hospitalized', 'Mortality_Rate', 'Testing_Rate'], 'South_Carolina': ['Recovered', 'Active', 'Incident_Rate', 'People_Hospitalized', 'Testing_Rate'], 'South_Dakota': ['Recovered', 'Incident_Rate', 'People_Tested', 'People_Hospitalized', 'Mortality_Rate', 'Testing_Rate'], 'Tennessee': ['Recovered', 'Active', 'Incident_Rate', 'People_Hospitalized', 'Testing_Rate'], 'Texas': ['Recovered', 'Active', 'Incident_Rate', 'Testing_Rate'], 'Utah': ['Recovered', 'Incident_Rate', 'People_Tested', 'People_Hospitalized', 'Testing_Rate'], 'Vermont': [], 'Virginia': ['Recovered', 'Active', 'Incident_Rate', 'People_Hospitalized', 'Testing_Rate'], 'Washington': ['Active', 'Incident_Rate', 'People_Hospitalized', 'Testing_Rate'], 'West_Virginia': ['Recovered', 'Active', 'Incident_Rate', 'Testing_Rate'], 'Wisconsin': ['Recovered', 'Active', 'Incident_Rate', 'People_Hospitalized', 'Testing_Rate'], 'Wyoming': ['Recovered', 'Incident_Rate', 'People_Tested', 'Testing_Rate']}\n"
          ],
          "name": "stdout"
        }
      ]
    },
    {
      "cell_type": "code",
      "metadata": {
        "id": "v4xg0vNOQ-PA"
      },
      "source": [
        "#Loop and put relavant features in a text file for each model "
      ],
      "execution_count": null,
      "outputs": []
    }
  ]
}